{
 "cells": [
  {
   "cell_type": "code",
   "execution_count": 1,
   "metadata": {},
   "outputs": [],
   "source": [
    "from matplotlib import pyplot as plt\n",
    "from collections import Counter\n",
    "import pandas as pd\n",
    "import numpy as np"
   ]
  },
  {
   "cell_type": "markdown",
   "metadata": {},
   "source": [
    "# 1. Creating and Customizing Our First Plots"
   ]
  },
  {
   "cell_type": "code",
   "execution_count": 2,
   "metadata": {},
   "outputs": [],
   "source": [
    "plt.style.use('fivethirtyeight')"
   ]
  },
  {
   "cell_type": "code",
   "execution_count": null,
   "metadata": {},
   "outputs": [],
   "source": [
    "ages_x = [25, 26, 27, 28, 29, 30, 31, 32, 33, 34, 35]"
   ]
  },
  {
   "cell_type": "code",
   "execution_count": null,
   "metadata": {},
   "outputs": [],
   "source": [
    "dev_y = [38496, 42000, 46752, 49320, 53200, 56000, 62316, 64928, 67317, 68748, 73752]"
   ]
  },
  {
   "cell_type": "code",
   "execution_count": null,
   "metadata": {},
   "outputs": [],
   "source": [
    "plt.plot(ages_x, dev_y)\n",
    "\n",
    "plt.xlabel(\"Ages\")\n",
    "plt.ylabel(\"Median Salary (USD)\")\n",
    "plt.title(\"Median Salary (USD) by Age\")"
   ]
  },
  {
   "cell_type": "code",
   "execution_count": null,
   "metadata": {},
   "outputs": [],
   "source": [
    "py_dev_y = [45372, 48876, 53850, 57287, 63016, 65998, 70003, 70000, 71496, 75370, 83640]"
   ]
  },
  {
   "cell_type": "code",
   "execution_count": null,
   "metadata": {},
   "outputs": [],
   "source": [
    "js_dev_y = [37810, 43515, 46823, 49293, 53437, 56373, 62375, 66674, 68745, 68746, 74583]"
   ]
  },
  {
   "cell_type": "code",
   "execution_count": null,
   "metadata": {},
   "outputs": [],
   "source": [
    "plt.plot(ages_x, dev_y, label=\"All Devs\")\n",
    "plt.plot(ages_x, py_dev_y, label=\"Python Devs\")\n",
    "plt.plot(ages_x, js_dev_y, label=\"Javascript Devs\")\n",
    "\n",
    "plt.xlabel(\"Ages\")\n",
    "plt.ylabel(\"Median Salary (USD)\")\n",
    "plt.title(\"Median Salary (USD) by Age\")\n",
    "plt.legend()"
   ]
  },
  {
   "cell_type": "code",
   "execution_count": null,
   "metadata": {},
   "outputs": [],
   "source": [
    "plt.style.available"
   ]
  },
  {
   "cell_type": "markdown",
   "metadata": {},
   "source": [
    "# 2. Bar Charts and Analyzing Data from CSVs"
   ]
  },
  {
   "cell_type": "code",
   "execution_count": null,
   "metadata": {},
   "outputs": [],
   "source": [
    "x_indexes = np.arange(len(ages_x))\n",
    "width = 0.25"
   ]
  },
  {
   "cell_type": "code",
   "execution_count": null,
   "metadata": {},
   "outputs": [],
   "source": [
    "plt.bar(x_indexes - width, dev_y, width=width, label=\"All Devs\")\n",
    "plt.bar(x_indexes, py_dev_y, width=width, label=\"Python Devs\")\n",
    "plt.bar(x_indexes + width, js_dev_y, width=width, label=\"Javascript Devs\")\n",
    "\n",
    "plt.xlabel(\"Ages\")\n",
    "plt.ylabel(\"Median Salary (USD)\")\n",
    "plt.title(\"Median Salary (USD) by Age\")\n",
    "plt.xticks(ticks=x_indexes, labels=ages_x)\n",
    "plt.legend()"
   ]
  },
  {
   "cell_type": "code",
   "execution_count": null,
   "metadata": {},
   "outputs": [],
   "source": [
    "df = pd.read_csv(\"data.csv\", index_col=\"Respondent_id\")\n",
    "df.head()"
   ]
  },
  {
   "cell_type": "code",
   "execution_count": null,
   "metadata": {},
   "outputs": [],
   "source": [
    "language_counter = Counter()\n",
    "language_respones = df[\"LanguageWorkedWith\"].dropna()\n",
    "for response in language_respones:\n",
    "    language_counter.update(response.split(\";\"))"
   ]
  },
  {
   "cell_type": "code",
   "execution_count": null,
   "metadata": {},
   "outputs": [],
   "source": [
    "language_counter.most_common(15)"
   ]
  },
  {
   "cell_type": "code",
   "execution_count": null,
   "metadata": {},
   "outputs": [],
   "source": [
    "languages = []\n",
    "popularity = []\n",
    "\n",
    "for item in language_counter.most_common(15):\n",
    "    languages.append(item[0])\n",
    "    popularity.append(item[1])"
   ]
  },
  {
   "cell_type": "code",
   "execution_count": null,
   "metadata": {},
   "outputs": [],
   "source": [
    "languages.reverse()\n",
    "popularity.reverse()"
   ]
  },
  {
   "cell_type": "code",
   "execution_count": null,
   "metadata": {},
   "outputs": [],
   "source": [
    "plt.barh(languages, popularity)\n",
    "plt.xlabel(\"popularity\")\n",
    "plt.title(\"Most Popular Languages\")"
   ]
  },
  {
   "cell_type": "markdown",
   "metadata": {},
   "source": [
    "# 3. Pie Charts"
   ]
  },
  {
   "cell_type": "code",
   "execution_count": null,
   "metadata": {},
   "outputs": [],
   "source": [
    "slices = [59219, 55466, 47544, 36443, 35917]\n",
    "labels = [\"JavaScript\", \"HTML/CSS\", \"SQL\", \"Python\", \"Java\"]\n",
    "explode= [0, 0, 0, 0.1, 0]"
   ]
  },
  {
   "cell_type": "code",
   "execution_count": null,
   "metadata": {},
   "outputs": [],
   "source": [
    "plt.pie(slices, explode=explode, labels=labels, autopct=\"%1.1f%%\", shadow=True, wedgeprops={\"edgecolor\":\"black\"})\n",
    "plt.title(\"My awsome pie chart\")\n",
    "plt.show()"
   ]
  },
  {
   "cell_type": "markdown",
   "metadata": {},
   "source": [
    "# 4. Stack Plots"
   ]
  },
  {
   "cell_type": "code",
   "execution_count": null,
   "metadata": {},
   "outputs": [],
   "source": [
    "minutes = [1, 2, 3, 4, 5, 6, 7, 8, 9]\n",
    "\n",
    "player1 = [1, 2, 3, 3, 4, 4, 4, 4, 5]\n",
    "player2 = [1, 1, 1, 1, 2, 2, 2, 3, 4]\n",
    "player3 = [1, 1, 1, 2, 2, 2, 3, 3, 3]\n",
    "\n",
    "labels = [\"player1\", \"player2\", \"player3\"]"
   ]
  },
  {
   "cell_type": "code",
   "execution_count": null,
   "metadata": {},
   "outputs": [],
   "source": [
    "plt.stackplot(minutes, player1, player2, player3, labels=labels)\n",
    "\n",
    "plt.legend(loc=\"upper left\")\n",
    "plt.title(\"My Awsome Stack Plot\")\n",
    "plt.show()"
   ]
  },
  {
   "cell_type": "markdown",
   "metadata": {},
   "source": [
    "# 5. Filling Area on Line Plots"
   ]
  },
  {
   "cell_type": "code",
   "execution_count": null,
   "metadata": {},
   "outputs": [],
   "source": [
    "ages_x = [25, 26, 27, 28, 29, 30, 31, 32, 33, 34, 35]\n",
    "dev_y = [38496, 42000, 46752, 49320, 53200, 56000, 62316, 64928, 67317, 68748, 73752]\n",
    "py_dev_y = [45372, 48876, 53850, 57287, 63016, 65998, 70003, 70000, 71496, 75370, 83640]\n",
    "js_dev_y = [37810, 43515, 46823, 49293, 53437, 56373, 62375, 66674, 68745, 68746, 74583]"
   ]
  },
  {
   "cell_type": "code",
   "execution_count": null,
   "metadata": {},
   "outputs": [],
   "source": [
    "plt.plot(ages_x, dev_y, label=\"All Devs\")\n",
    "plt.plot(ages_x, py_dev_y, label=\"Python\")\n",
    "\n",
    "mediam_salary=57287\n",
    "\n",
    "plt.fill_between(ages_x, py_dev_y, where=(np.array(py_dev_y) > mediam_salary), interpolate=True, alpha=0.25, label=\"Above Average\")\n",
    "plt.fill_between(ages_x, py_dev_y, where=(np.array(py_dev_y) <= mediam_salary), color=\"red\", interpolate=True, alpha=0.25, label=\"Below Average\")\n",
    "\n",
    "plt.legend(loc=\"upper left\")\n",
    "plt.xlabel(\"Ages\")\n",
    "plt.ylabel(\"Median Salary (USD)\")\n",
    "plt.title(\"Median Salary (USD) by Age\")"
   ]
  },
  {
   "cell_type": "markdown",
   "metadata": {},
   "source": [
    "# 6. Histograms"
   ]
  },
  {
   "cell_type": "code",
   "execution_count": null,
   "metadata": {},
   "outputs": [],
   "source": [
    "ages = [18, 19, 21, 25, 26, 30, 32, 38, 45, 55]\n",
    "bins = [10, 20, 30, 40, 50, 60]"
   ]
  },
  {
   "cell_type": "code",
   "execution_count": null,
   "metadata": {},
   "outputs": [],
   "source": [
    "plt.hist(ages, bins=5)\n",
    "plt.show()"
   ]
  },
  {
   "cell_type": "code",
   "execution_count": null,
   "metadata": {},
   "outputs": [],
   "source": [
    "plt.hist(ages, bins=bins, edgecolor=\"black\")\n",
    "plt.show()"
   ]
  },
  {
   "cell_type": "code",
   "execution_count": null,
   "metadata": {},
   "outputs": [],
   "source": [
    "import pandas as pd\n",
    "age_df = pd.read_csv(\"age.csv\")\n",
    "age_df.head()"
   ]
  },
  {
   "cell_type": "code",
   "execution_count": null,
   "metadata": {},
   "outputs": [],
   "source": [
    "ids = age_df[\"Respondent\"]\n",
    "ages = age_df[\"Age\"]"
   ]
  },
  {
   "cell_type": "code",
   "execution_count": null,
   "metadata": {},
   "outputs": [],
   "source": [
    "plt.hist(ages, bins=bins, edgecolor=\"black\")\n",
    "plt.title(\"Ages of Respondents\")\n",
    "plt.xlabel(\"Ages\")\n",
    "plt.ylabel(\"Total Respondnets\")\n",
    "plt.show()"
   ]
  },
  {
   "cell_type": "markdown",
   "metadata": {},
   "source": [
    "# 7. Scatter Plots"
   ]
  },
  {
   "cell_type": "code",
   "execution_count": null,
   "metadata": {},
   "outputs": [],
   "source": [
    "plt.style.use(\"seaborn\")"
   ]
  },
  {
   "cell_type": "code",
   "execution_count": null,
   "metadata": {},
   "outputs": [],
   "source": [
    "x = [5, 7, 8, 5, 6, 7, 9, 2, 3, 4, 4, 4, 2, 6, 3, 6, 8, 6, 4, 1]\n",
    "y = [7, 4, 3, 9, 1, 3, 2, 5, 2, 4, 8, 7, 1, 6, 4, 9, 7, 7, 5, 1]\n",
    "colors = [7, 5, 9, 7, 5, 7, 2, 5, 3, 7, 1, 2, 8, 1, 9, 2, 5, 6, 7, 5]\n",
    "sizes = [209, 486, 381, 255, 191, 315, 185, 228, 174, 538, 239, 394, 153, 273, 293, 436, 501, 397, 539]"
   ]
  },
  {
   "cell_type": "code",
   "execution_count": null,
   "metadata": {},
   "outputs": [],
   "source": [
    "plt.scatter(x, y, s=sizes, c=colors, cmap=\"Greens\", edgecolor=\"black\", linewidth=1)\n",
    "\n",
    "cbar = plt.colorbar()\n",
    "cbar.set_label(\"saticifaction\")"
   ]
  },
  {
   "cell_type": "code",
   "execution_count": null,
   "metadata": {},
   "outputs": [],
   "source": [
    "data = pd.read_csv(\"2019-05-31-data.csv\")\n",
    "data.head()"
   ]
  },
  {
   "cell_type": "code",
   "execution_count": null,
   "metadata": {},
   "outputs": [],
   "source": [
    "view_count = data[\"view_count\"]\n",
    "likes = data[\"likes\"]\n",
    "ratio = data[\"ratio\"]"
   ]
  },
  {
   "cell_type": "code",
   "execution_count": null,
   "metadata": {},
   "outputs": [],
   "source": [
    "plt.scatter(view_count, likes, c=ratio, cmap=\"summer\", edgecolor=\"black\", linewidth=1)\n",
    "\n",
    "plt.title(\"Treding Youtube Videos\")\n",
    "plt.xlabel(\"View Count\")\n",
    "plt.ylabel(\"Likes\")\n",
    "\n",
    "plt.xscale(\"log\")\n",
    "plt.yscale(\"log\")\n",
    "\n",
    "cbar = plt.colorbar()\n",
    "cbar.set_label(\"Like/Dislike ratio\")"
   ]
  },
  {
   "cell_type": "markdown",
   "metadata": {},
   "source": [
    "# 8. Plotting Time Series Data"
   ]
  },
  {
   "cell_type": "code",
   "execution_count": null,
   "metadata": {},
   "outputs": [],
   "source": [
    "from datetime import datetime, timedelta\n",
    "from matplotlib import dates as mpl_dates"
   ]
  },
  {
   "cell_type": "code",
   "execution_count": null,
   "metadata": {},
   "outputs": [],
   "source": [
    "plt.style.use('seaborn')"
   ]
  },
  {
   "cell_type": "code",
   "execution_count": null,
   "metadata": {},
   "outputs": [],
   "source": [
    "dates = [\n",
    "    datetime(2019, 5, 24),\n",
    "    datetime(2019, 5, 25),\n",
    "    datetime(2019, 5, 26),\n",
    "    datetime(2019, 5, 27),\n",
    "    datetime(2019, 5, 28),\n",
    "    datetime(2019, 5, 29),\n",
    "    datetime(2019, 5, 30)\n",
    "]\n",
    "\n",
    "y = [0, 1, 3, 4, 6, 5, 7]"
   ]
  },
  {
   "cell_type": "code",
   "execution_count": null,
   "metadata": {},
   "outputs": [],
   "source": [
    "plt.plot_date(dates, y, linestyle=\"solid\")\n",
    "plt.gcf().autofmt_xdate()\n",
    "\n",
    "date_format = mpl_dates.DateFormatter(\"%b, %d %Y\")\n",
    "plt.gca().xaxis.set_major_formatter(date_format)"
   ]
  },
  {
   "cell_type": "code",
   "execution_count": null,
   "metadata": {},
   "outputs": [],
   "source": [
    "data = pd.read_csv(\"youtube_data.csv\")\n",
    "data.head()"
   ]
  },
  {
   "cell_type": "code",
   "execution_count": null,
   "metadata": {},
   "outputs": [],
   "source": [
    "data[\"Date\"] = pd.to_datetime(data[\"Date\"])\n",
    "data.sort_values(by=\"Date\", inplace=True)"
   ]
  },
  {
   "cell_type": "code",
   "execution_count": null,
   "metadata": {},
   "outputs": [],
   "source": [
    "price_date = data[\"Date\"]\n",
    "price_close = data[\"Close\"]"
   ]
  },
  {
   "cell_type": "code",
   "execution_count": null,
   "metadata": {},
   "outputs": [],
   "source": [
    "plt.plot_date(price_date, price_close, linestyle=\"solid\")\n",
    "\n",
    "plt.title(\"Bitcoin Prices\")\n",
    "plt.xlabel(\"Date\")\n",
    "plt.ylabel(\"Closing Price\")\n",
    "\n",
    "plt.gcf().autofmt_xdate()\n",
    "\n",
    "date_format = mpl_dates.DateFormatter(\"%b, %d %Y\")\n",
    "plt.gca().xaxis.set_major_formatter(date_format)"
   ]
  },
  {
   "cell_type": "markdown",
   "metadata": {},
   "source": [
    "# 9. Plotting Live Data in Real-Time"
   ]
  },
  {
   "cell_type": "code",
   "execution_count": null,
   "metadata": {},
   "outputs": [],
   "source": [
    "import random\n",
    "from itertools import count\n",
    "from matplotlib.animation import FuncAnimation"
   ]
  },
  {
   "cell_type": "code",
   "execution_count": null,
   "metadata": {},
   "outputs": [],
   "source": [
    "xvals = [0, 1, 2, 3, 4, 5]\n",
    "yvals = [0, 1, 3, 2, 3, 5]"
   ]
  },
  {
   "cell_type": "code",
   "execution_count": null,
   "metadata": {},
   "outputs": [],
   "source": [
    "plt.plot(xvals, yvals)\n",
    "plt.show()"
   ]
  },
  {
   "cell_type": "code",
   "execution_count": null,
   "metadata": {},
   "outputs": [],
   "source": [
    "xvals = []\n",
    "yvals = []"
   ]
  },
  {
   "cell_type": "code",
   "execution_count": null,
   "metadata": {},
   "outputs": [],
   "source": [
    "index = count()\n",
    "\n",
    "def animate(i):\n",
    "    xvals.append(next(index))\n",
    "    yvals.append(random.randint(0, 5))\n",
    "    \n",
    "    plt.plot(xvals, yvals)"
   ]
  },
  {
   "cell_type": "code",
   "execution_count": null,
   "metadata": {},
   "outputs": [],
   "source": [
    "animation = FuncAnimation(plt.gcf(), animate, 1000)\n",
    "plt.show()"
   ]
  },
  {
   "cell_type": "markdown",
   "metadata": {},
   "source": [
    "# 10. Subplots"
   ]
  },
  {
   "cell_type": "code",
   "execution_count": 4,
   "metadata": {},
   "outputs": [
    {
     "data": {
      "text/html": [
       "<div>\n",
       "<style scoped>\n",
       "    .dataframe tbody tr th:only-of-type {\n",
       "        vertical-align: middle;\n",
       "    }\n",
       "\n",
       "    .dataframe tbody tr th {\n",
       "        vertical-align: top;\n",
       "    }\n",
       "\n",
       "    .dataframe thead th {\n",
       "        text-align: right;\n",
       "    }\n",
       "</style>\n",
       "<table border=\"1\" class=\"dataframe\">\n",
       "  <thead>\n",
       "    <tr style=\"text-align: right;\">\n",
       "      <th></th>\n",
       "      <th>Age</th>\n",
       "      <th>All_Devs</th>\n",
       "      <th>Python</th>\n",
       "      <th>JavaScript</th>\n",
       "    </tr>\n",
       "  </thead>\n",
       "  <tbody>\n",
       "    <tr>\n",
       "      <th>0</th>\n",
       "      <td>18</td>\n",
       "      <td>17784</td>\n",
       "      <td>20046</td>\n",
       "      <td>16446</td>\n",
       "    </tr>\n",
       "    <tr>\n",
       "      <th>1</th>\n",
       "      <td>19</td>\n",
       "      <td>16500</td>\n",
       "      <td>17100</td>\n",
       "      <td>16791</td>\n",
       "    </tr>\n",
       "    <tr>\n",
       "      <th>2</th>\n",
       "      <td>20</td>\n",
       "      <td>18012</td>\n",
       "      <td>20000</td>\n",
       "      <td>18942</td>\n",
       "    </tr>\n",
       "    <tr>\n",
       "      <th>3</th>\n",
       "      <td>21</td>\n",
       "      <td>20628</td>\n",
       "      <td>24744</td>\n",
       "      <td>21780</td>\n",
       "    </tr>\n",
       "    <tr>\n",
       "      <th>4</th>\n",
       "      <td>22</td>\n",
       "      <td>25206</td>\n",
       "      <td>30500</td>\n",
       "      <td>25704</td>\n",
       "    </tr>\n",
       "  </tbody>\n",
       "</table>\n",
       "</div>"
      ],
      "text/plain": [
       "   Age  All_Devs  Python  JavaScript\n",
       "0   18     17784   20046       16446\n",
       "1   19     16500   17100       16791\n",
       "2   20     18012   20000       18942\n",
       "3   21     20628   24744       21780\n",
       "4   22     25206   30500       25704"
      ]
     },
     "execution_count": 4,
     "metadata": {},
     "output_type": "execute_result"
    }
   ],
   "source": [
    "df = pd.read_csv(\"dev_salary.csv\")\n",
    "df.head()"
   ]
  },
  {
   "cell_type": "code",
   "execution_count": 8,
   "metadata": {},
   "outputs": [],
   "source": [
    "ages = df[\"Age\"]\n",
    "all_devs = df[\"All_Devs\"]\n",
    "python = df[\"Python\"]\n",
    "javascript = df[\"JavaScript\"]"
   ]
  },
  {
   "cell_type": "code",
   "execution_count": 26,
   "metadata": {},
   "outputs": [
    {
     "data": {
      "image/png": "[encoded data removed]",
      "text/plain": [
       "<Figure size 576x396 with 1 Axes>"
      ]
     },
     "metadata": {},
     "output_type": "display_data"
    }
   ],
   "source": [
    "fig, ax = plt.subplots()\n",
    "\n",
    "ax.plot(ages, all_devs, label=\"All_Devs\")\n",
    "ax.plot(ages, python, label=\"Python\")\n",
    "ax.plot(ages, javascript, label=\"JavaScript\")\n",
    "\n",
    "ax.set_title(\"Median Salary (USD) by Age\")\n",
    "ax.set_xlabel(\"Ages\")\n",
    "ax.set_ylabel(\"Median Salary (USD)\")\n",
    "\n",
    "plt.legend()\n",
    "plt.show()"
   ]
  },
  {
   "cell_type": "code",
   "execution_count": 27,
   "metadata": {},
   "outputs": [],
   "source": [
    "plt.style.use(\"seaborn\")"
   ]
  },
  {
   "cell_type": "code",
   "execution_count": 31,
   "metadata": {},
   "outputs": [
    {
     "data": {
      "image/png": "[encoded data removed]",
      "text/plain": [
       "<Figure size 576x396 with 2 Axes>"
      ]
     },
     "metadata": {},
     "output_type": "display_data"
    }
   ],
   "source": [
    "fig, (ax1, ax2) = plt.subplots(nrows=2, ncols=1, sharex=True)\n",
    "\n",
    "ax1.plot(ages, all_devs, label=\"All_Devs\")\n",
    "ax1.legend()\n",
    "ax1.set_title(\"Median Salary (USD) by Age\")\n",
    "ax2.set_xlabel(\"Ages\")\n",
    "ax1.set_ylabel(\"Median Salary (USD)\")\n",
    "\n",
    "ax2.plot(ages, python, label=\"Python\")\n",
    "ax2.plot(ages, javascript, label=\"JavaScript\")\n",
    "ax2.legend()\n",
    "ax2.set_title(\"Median Salary (USD) by Age\")\n",
    "ax2.set_xlabel(\"Ages\")\n",
    "ax2.set_ylabel(\"Median Salary (USD)\")\n",
    "\n",
    "plt.legend()\n",
    "plt.show()"
   ]
  },
  {
   "cell_type": "code",
   "execution_count": 33,
   "metadata": {},
   "outputs": [],
   "source": [
    "fig.savefig(\"fig.png\")"
   ]
  },
  {
   "cell_type": "code",
   "execution_count": null,
   "metadata": {},
   "outputs": [],
   "source": []
  }
 ],
 "metadata": {
  "kernelspec": {
   "display_name": "Python 3",
   "language": "python",
   "name": "python3"
  },
  "language_info": {
   "codemirror_mode": {
    "name": "ipython",
    "version": 3
   },
   "file_extension": ".py",
   "mimetype": "text/x-python",
   "name": "python",
   "nbconvert_exporter": "python",
   "pygments_lexer": "ipython3",
   "version": "3.7.6"
  }
 },
 "nbformat": 4,
 "nbformat_minor": 4
}
